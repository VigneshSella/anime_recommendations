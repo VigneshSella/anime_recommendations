{
 "cells": [
  {
   "cell_type": "code",
   "execution_count": 1,
   "metadata": {},
   "outputs": [],
   "source": [
    "import pandas as pd\n",
    "import numpy as np\n",
    "import scipy\n",
    "from scipy.sparse import csr_matrix"
   ]
  },
  {
   "cell_type": "code",
   "execution_count": 2,
   "metadata": {},
   "outputs": [],
   "source": [
    "BYTES_TO_MB_DIV = 0.000001\n",
    "def mem_usage_df(df):\n",
    "    mem = round(df.memory_usage().sum() * BYTES_TO_MB_DIV, 3) \n",
    "    print(\"Memory usage is \" + str(mem) + \" MB\")"
   ]
  },
  {
   "cell_type": "code",
   "execution_count": 3,
   "metadata": {},
   "outputs": [
    {
     "name": "stdout",
     "output_type": "stream",
     "text": [
      "Memory usage is 3535.522 MB\n",
      "(39466, 11197)\n",
      "Memory usage is 86.311 MB\n"
     ]
    }
   ],
   "source": [
    "# Read in the data\n",
    "anime_list = pd.read_csv('anime.csv')\n",
    "rating_list = pd.read_csv('rating.csv')\n",
    "# Drop all un-watched/un-rated anime :(\n",
    "anime_list.dropna(inplace=True)\n",
    "# Drop users with less than 50 ratings\n",
    "rating_list = rating_list.groupby('user_id').filter(lambda x: len(x) >= 50)\n",
    "\n",
    "# New dataframe with users as rows and anime as columns, with ratings as values\n",
    "anime_matrix = rating_list.pivot_table(index='user_id', columns='anime_id', values='rating').fillna(0)\n",
    "anime_matrix.head()\n",
    "# Print memory usage\n",
    "mem_usage_df(anime_matrix)\n",
    "# Print shape\n",
    "print(anime_matrix.shape)\n",
    "# Convert to sparse pandas dataframe\n",
    "anime_matrix_sparse = anime_matrix.astype(pd.SparseDtype(\"float\", 0))\n",
    "# Print memory usage\n",
    "mem_usage_df(anime_matrix_sparse)"
   ]
  }
 ],
 "metadata": {
  "kernelspec": {
   "display_name": "Python 3.9.13 ('.venv': venv)",
   "language": "python",
   "name": "python3"
  },
  "language_info": {
   "codemirror_mode": {
    "name": "ipython",
    "version": 3
   },
   "file_extension": ".py",
   "mimetype": "text/x-python",
   "name": "python",
   "nbconvert_exporter": "python",
   "pygments_lexer": "ipython3",
   "version": "3.9.13"
  },
  "orig_nbformat": 4,
  "vscode": {
   "interpreter": {
    "hash": "5ee4f650ecee2a6594d10df650b64c67f9247beafd3df337f83ba2f994e659a9"
   }
  }
 },
 "nbformat": 4,
 "nbformat_minor": 2
}
